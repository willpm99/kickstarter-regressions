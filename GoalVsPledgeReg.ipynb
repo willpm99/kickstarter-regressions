{
  "nbformat": 4,
  "nbformat_minor": 0,
  "metadata": {
    "colab": {
      "name": "GoalVsPledgeReg.ipynb",
      "provenance": [],
      "collapsed_sections": []
    },
    "kernelspec": {
      "name": "python3",
      "display_name": "Python 3"
    }
  },
  "cells": [
    {
      "cell_type": "code",
      "metadata": {
        "id": "uJUJMBvtGJdo",
        "colab_type": "code",
        "colab": {}
      },
      "source": [
        "import numpy as np\n",
        "import pandas as pd\n",
        "import matplotlib.pyplot as plt\n",
        "from numpy import reshape\n",
        "from sklearn import linear_model\n",
        "from sklearn.linear_model import LinearRegression\n",
        "from sklearn.model_selection import train_test_split\n",
        "from sklearn import preprocessing\n",
        "from sklearn.preprocessing import RobustScaler\n",
        "from google.colab import drive"
      ],
      "execution_count": 0,
      "outputs": []
    },
    {
      "cell_type": "code",
      "metadata": {
        "id": "ibnWnsuFGB_u",
        "colab_type": "code",
        "outputId": "877fc3dd-1940-4ada-8255-3ffcc70bfe04",
        "colab": {
          "base_uri": "https://localhost:8080/",
          "height": 34
        }
      },
      "source": [
        "drive.mount(\"/content/drive\") "
      ],
      "execution_count": 0,
      "outputs": [
        {
          "output_type": "stream",
          "text": [
            "Drive already mounted at /content/drive; to attempt to forcibly remount, call drive.mount(\"/content/drive\", force_remount=True).\n"
          ],
          "name": "stdout"
        }
      ]
    },
    {
      "cell_type": "code",
      "metadata": {
        "id": "2o4hdA4OEsg_",
        "colab_type": "code",
        "outputId": "a8b63389-f379-4c49-d6fb-914130554908",
        "colab": {
          "base_uri": "https://localhost:8080/",
          "height": 299
        }
      },
      "source": [
        "#Clean data\n",
        "data = pd.read_csv('/content/drive/My Drive/ks-projects-201801.csv', engine='python')\n",
        "data = data.query('state != \"live\" and state != \"undefined\"')\n",
        "data = data.drop(columns=['ID','goal','usd pledged', 'pledged'])\n",
        "data = data.query('usd_pledged_real < 5000000')\n",
        "data = data.query('backers > 10')\n",
        "data = data.query('usd_goal_real < 1000000')"
      ],
      "execution_count": 0,
      "outputs": [
        {
          "output_type": "stream",
          "text": [
            "training 135709\n",
            "testing 58161\n"
          ],
          "name": "stdout"
        },
        {
          "output_type": "display_data",
          "data": {
            "image/png": "[encoded data removed]",
            "text/plain": [
              "<Figure size 432x288 with 1 Axes>"
            ]
          },
          "metadata": {
            "tags": [],
            "needs_background": "light"
          }
        }
      ]
    },
    {
      "cell_type": "code",
      "metadata": {
        "id": "wX9QmNiPDsEw",
        "colab_type": "code",
        "colab": {}
      },
      "source": [
        "#Setup data\n",
        "x_data = data[['usd_goal_real']]\n",
        "y_data = data[['usd_pledged_real']]\n",
        "x_transformer = RobustScaler().fit(x_data)\n",
        "y_transformer = RobustScaler().fit(y_data)\n",
        "x_data = x_transformer.transform(x_data)\n",
        "y_data = y_transformer.transform(y_data)\n",
        "\n",
        "\n",
        "x_train, x_test, y_train, y_test = train_test_split(x_data, y_data, test_size=0.3)"
      ],
      "execution_count": 0,
      "outputs": []
    },
    {
      "cell_type": "code",
      "metadata": {
        "id": "wSKNAux62dMB",
        "colab_type": "code",
        "outputId": "dceccd64-55a3-43ce-8f88-319d1a5ed7c3",
        "colab": {
          "base_uri": "https://localhost:8080/",
          "height": 34
        }
      },
      "source": [
        "#Run simple regression model\n",
        "reg = LinearRegression()\n",
        "reg.fit(x_train,y_train)"
      ],
      "execution_count": 0,
      "outputs": [
        {
          "output_type": "execute_result",
          "data": {
            "text/plain": [
              "LinearRegression(copy_X=True, fit_intercept=True, n_jobs=None, normalize=False)"
            ]
          },
          "metadata": {
            "tags": []
          },
          "execution_count": 12
        }
      ]
    },
    {
      "cell_type": "code",
      "metadata": {
        "id": "XyeARLBHFj1Q",
        "colab_type": "code",
        "outputId": "a77fd4a4-3fb6-44e8-df94-56c7eb71e2e7",
        "colab": {
          "base_uri": "https://localhost:8080/",
          "height": 296
        }
      },
      "source": [
        "#Visualization\n",
        "plt.scatter(\n",
        "    x_train,\n",
        "    y_train,\n",
        "    c='black'\n",
        ")\n",
        "\n",
        "preds = reg.predict(x_train)\n",
        "plt.plot(\n",
        "    x_train,\n",
        "    preds,\n",
        "    c = 'blue'\n",
        ")\n",
        "\n",
        "plt.xlabel(\"Project Funding Goal\")\n",
        "plt.ylabel(\"Amount Pledged\")\n",
        "plt.show\n"
      ],
      "execution_count": 0,
      "outputs": [
        {
          "output_type": "execute_result",
          "data": {
            "text/plain": [
              "<function matplotlib.pyplot.show>"
            ]
          },
          "metadata": {
            "tags": []
          },
          "execution_count": 13
        },
        {
          "output_type": "display_data",
          "data": {
            "image/png": "[encoded data removed]",
            "text/plain": [
              "<Figure size 432x288 with 1 Axes>"
            ]
          },
          "metadata": {
            "tags": [],
            "needs_background": "light"
          }
        }
      ]
    },
    {
      "cell_type": "code",
      "metadata": {
        "colab_type": "code",
        "outputId": "8997365c-4b14-41f4-a570-a05a881f0807",
        "id": "GDGu16oUHgZX",
        "colab": {
          "base_uri": "https://localhost:8080/",
          "height": 442
        }
      },
      "source": [
        "#Statistics\n",
        "import statsmodels.api as sm\n",
        "X2 = sm.add_constant(x_train)\n",
        "est = sm.OLS(y_train, X2)\n",
        "est2 = est.fit()\n",
        "print(est2.summary())"
      ],
      "execution_count": 0,
      "outputs": [
        {
          "output_type": "stream",
          "text": [
            "                            OLS Regression Results                            \n",
            "==============================================================================\n",
            "Dep. Variable:                      y   R-squared:                       0.051\n",
            "Model:                            OLS   Adj. R-squared:                  0.051\n",
            "Method:                 Least Squares   F-statistic:                     7283.\n",
            "Date:                Wed, 22 Apr 2020   Prob (F-statistic):               0.00\n",
            "Time:                        17:28:04   Log-Likelihood:            -4.9316e+05\n",
            "No. Observations:              135709   AIC:                         9.863e+05\n",
            "Df Residuals:                  135707   BIC:                         9.863e+05\n",
            "Df Model:                           1                                         \n",
            "Covariance Type:            nonrobust                                         \n",
            "==============================================================================\n",
            "                 coef    std err          t      P>|t|      [0.025      0.975]\n",
            "------------------------------------------------------------------------------\n",
            "const          0.8615      0.026     33.517      0.000       0.811       0.912\n",
            "x1             0.6368      0.007     85.341      0.000       0.622       0.651\n",
            "==============================================================================\n",
            "Omnibus:                   321415.903   Durbin-Watson:                   2.003\n",
            "Prob(Omnibus):                  0.000   Jarque-Bera (JB):       4247746345.533\n",
            "Skew:                          24.045   Prob(JB):                         0.00\n",
            "Kurtosis:                     868.388   Cond. No.                         3.58\n",
            "==============================================================================\n",
            "\n",
            "Warnings:\n",
            "[1] Standard Errors assume that the covariance matrix of the errors is correctly specified.\n"
          ],
          "name": "stdout"
        }
      ]
    }
  ]
}